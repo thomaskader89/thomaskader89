{
  "cells": [
    {
      "cell_type": "code",
      "execution_count": null,
      "metadata": {
        "colab": {
          "base_uri": "https://localhost:8080/"
        },
        "id": "UxXXFSXzC6xR",
        "outputId": "3696515e-e1ab-48e7-d060-2337d990e09e"
      },
      "outputs": [
        {
          "output_type": "stream",
          "name": "stdout",
          "text": [
            "Requirement already satisfied: numpy_financial in /usr/local/lib/python3.10/dist-packages (1.0.0)\n",
            "Requirement already satisfied: numpy>=1.15 in /usr/local/lib/python3.10/dist-packages (from numpy_financial) (1.25.2)\n"
          ]
        }
      ],
      "source": [
        "!pip install numpy_financial\n",
        "import numpy_financial as npf\n",
        "import scipy as sp\n",
        "import numpy as np\n",
        "import pandas as pd\n",
        "import plotly.express as px\n",
        "import plotly.graph_objects as go\n",
        "from sympy import symbols, Rational\n",
        "from scipy.optimize import newton"
      ]
    },
    {
      "cell_type": "code",
      "execution_count": null,
      "metadata": {
        "colab": {
          "base_uri": "https://localhost:8080/"
        },
        "id": "84vnygdnZlMs",
        "outputId": "630b4c14-4702-43b2-ffdf-93eede65d95d"
      },
      "outputs": [
        {
          "output_type": "stream",
          "name": "stdout",
          "text": [
            "Spot Rates:\n",
            "A: 4.25%\n",
            "B: 4.25%\n",
            "C: 4.75%\n"
          ]
        }
      ],
      "source": [
        "# Given data\n",
        "bond_prices = {'A': 95.92, 'B': 92.01, 'C': 87.00}\n",
        "maturities = {'A': 1, 'B': 2, 'C': 3}\n",
        "principal = 100\n",
        "\n",
        "# Calculate spot rates\n",
        "spot_rates = {}\n",
        "for bond, price in bond_prices.items():\n",
        "    n = maturities[bond]\n",
        "    spot_rate = (principal / price)**(1/n) - 1\n",
        "    spot_rates[bond] = spot_rate\n",
        "\n",
        "# Print spot rates\n",
        "print(\"Spot Rates:\")\n",
        "for bond, rate in spot_rates.items():\n",
        "    print(f\"{bond}: {rate*100:.2f}%\")"
      ]
    },
    {
      "cell_type": "code",
      "execution_count": null,
      "metadata": {
        "colab": {
          "base_uri": "https://localhost:8080/"
        },
        "id": "48uA9lhtaANQ",
        "outputId": "58baa843-0c4a-4f30-8f72-b1a35a50abd9"
      },
      "outputs": [
        {
          "output_type": "stream",
          "name": "stdout",
          "text": [
            "Annual forward rate from year 2 to 3: 5.76%\n"
          ]
        }
      ],
      "source": [
        "# Calculate the forward rate from year 2 to 3 using the spot rates\n",
        "s2 = spot_rates['B']\n",
        "s3 = spot_rates['C']\n",
        "forward_rate_2_to_3 = ((1 + s3)**3 / (1 + s2)**2) - 1\n",
        "\n",
        "\n",
        "# Print forward rate\n",
        "print(f\"Annual forward rate from year 2 to 3: {forward_rate_2_to_3*100:.2f}%\")"
      ]
    },
    {
      "cell_type": "code",
      "execution_count": null,
      "metadata": {
        "colab": {
          "base_uri": "https://localhost:8080/"
        },
        "id": "EI8eK8PBaOc8",
        "outputId": "a089cd99-afbb-421c-f24e-57a02b2338ac"
      },
      "outputs": [
        {
          "output_type": "stream",
          "name": "stdout",
          "text": [
            "Yield to maturity of the 2-year bond: 0.0400\n",
            "The YTM of the 2-year bond is lower than the spot rate for year 2.\n"
          ]
        }
      ],
      "source": [
        "# Calculate YTM for the 2-year bond\n",
        "principal = 100\n",
        "coupon_rate = 0.04\n",
        "years_to_maturity = 2\n",
        "coupon_payment = principal * coupon_rate\n",
        "\n",
        "# Create cash flow for bond\n",
        "cash_flow = [-principal] + [coupon_payment] * years_to_maturity\n",
        "cash_flow[-1] += principal  # Add principal to the last payment\n",
        "\n",
        "# Calculate YTM\n",
        "ytm = npf.irr(cash_flow)\n",
        "\n",
        "# Print YTM\n",
        "print(f\"Yield to maturity of the 2-year bond: {ytm:.4f}\")\n",
        "\n",
        "# Compare YTM with the spot rate for year 2\n",
        "spot_rate_year_2 = spot_rates['B']\n",
        "if ytm > spot_rate_year_2:\n",
        "    print(\"The YTM of the 2-year bond is higher than the spot rate for year 2.\")\n",
        "elif ytm < spot_rate_year_2:\n",
        "    print(\"The YTM of the 2-year bond is lower than the spot rate for year 2.\")\n",
        "else:\n",
        "    print(\"The YTM of the 2-year bond is equal to the spot rate for year 2.\")\n"
      ]
    },
    {
      "cell_type": "markdown",
      "metadata": {
        "id": "kCuULEe0ao7O"
      },
      "source": [
        "2a) The Yield to Maturity (YTM) of a zero-coupon bond is equal to the annualized return when it is held to maturity. The total returns that are expected from the yield to maturity of a bond include the purchase price, face value (par value), and the time to maturity. The YTM is calculated based on the discount to its face value of the sale price, and does not pay periodic interest. Since the YTM of the zero-coupon is 5%, the effective annualized return is 5%. This return assumes compounding interest once per year and is a reflection of the bond's YTM as well as annual growth rate."
      ]
    },
    {
      "cell_type": "markdown",
      "metadata": {
        "id": "4RHKQkd_apVy"
      },
      "source": [
        "2b) Calculating the effective annualized return if you hold the bond for only 2 years, without selling it, is more complex because the bond's price in 2 years depends on the interest rate environment at that future time. Without knowing the future yield to maturity or interest rates at the end of the 2-year period, we cannot accurately calculate the bond's price and, consequently, the return if sold at that time. The effective annualized return over a partial period for a zero-coupon bond would typically require knowing the bond's selling price at the end of that period. Since the bond's future price depends on the interest rates at the future time (which are not provided), we cannot solve for the effective annualized return over just 2 years without additional information about the future interest rates or the bond's future selling price."
      ]
    },
    {
      "cell_type": "code",
      "execution_count": null,
      "metadata": {
        "colab": {
          "base_uri": "https://localhost:8080/"
        },
        "id": "Zi1_IQYBbXlL",
        "outputId": "8f77e1fc-a87b-4044-bb48-69f596f7ff4c"
      },
      "outputs": [
        {
          "output_type": "execute_result",
          "data": {
            "text/plain": [
              "12162.762947592671"
            ]
          },
          "metadata": {},
          "execution_count": 23
        }
      ],
      "source": [
        "# Constants\n",
        "principal = 10000  # Initial balance\n",
        "apr = 19.74 / 100  # APR as a decimal\n",
        "n = 12  # Number of months\n",
        "\n",
        "# Calculate the future balance\n",
        "monthly_interest_rate = apr / 12\n",
        "future_balance = principal * (1 + monthly_interest_rate)**n\n",
        "\n",
        "future_balance\n"
      ]
    },
    {
      "cell_type": "markdown",
      "metadata": {
        "id": "XPFQFNnbdfVk"
      },
      "source": [
        "When the Federal Reserve increases the lending rate, commonly referred to as the federal funds rate, it directly affects the cost of borrowing across the economy. This includes the interest rates on credit cards. Here's how an increase in the federal funds rate can affect credit card interest rates and consumer spending behavior:\n",
        "\n",
        "**Impact on Credit Card Interest Rates**\n",
        "1. Increase in Credit Card APRs: Credit card interest rates are often variable and tied to the prime rate, which moves in tandem with the federal funds rate. As the Federal Reserve raises the lending rate, banks will increase the prime rate, which in turn causes credit card Annual Percentage Rates (APRs) to rise. Therefore, if the Federal Reserve continues to increase the lending rate, it's reasonable to expect that credit card interest rates will continue to climb from their current levels, including the average rate you mentioned of 22.91%.\n",
        "\n",
        "2. Wider Credit Spreads: During periods of tightening monetary policy (when the Fed raises rates), there's often an increased risk of default as borrowing costs rise. Credit card issuers might increase rates more than the rise in the federal funds rate to compensate for this heightened risk, widening the spread between the cost of funds for the bank and the interest rate charged to consumers.\n",
        "\n",
        "**Impact on Consumer Spending Behavior**\n",
        "\n",
        "Reduced Credit Card Usage: As credit card interest rates rise, consumers may become more hesitant to carry balances on their credit cards due to the higher cost of borrowing. This could lead to a reduction in credit card usage for discretionary spending.\n",
        "\n",
        "1. Shift Towards Debit or Cash: Consumers might shift their payment preferences towards debit cards or cash to avoid accruing interest on credit card balances. This shift could be more pronounced for non-essential purchases or in cases where consumers are more sensitive to the impact of interest charges.\n",
        "\n",
        "2. Increased Focus on Debt Repayment: With higher interest rates, the cost of carrying credit card debt increases, which could lead consumers to prioritize paying down existing credit card debt. This might involve reallocating spending towards debt repayment, possibly at the expense of discretionary spending.\n",
        "\n",
        "3. Budgeting and Saving: Consumers might adopt more stringent budgeting practices, cutting back on non-essential expenses to avoid accruing high-interest debt. There may also be an increased emphasis on building an emergency savings fund to reduce the need to rely on credit cards for unexpected expenses.\n",
        "\n",
        "As the Federal Reserve raises the lending rate, it's likely that both credit card interest rates will increase, and consumer spending behavior will shift towards more cautious financial practices. These changes can have a broad impact on the economy, affecting everything from individual financial health to the performance of various sectors dependent on consumer spending."
      ]
    },
    {
      "cell_type": "markdown",
      "metadata": {
        "id": "Do73r8U0zbQ9"
      },
      "source": [
        "4c) Fund Characteristics: Number of Holdings = 4,750\n",
        "Index Characteristics: Number of Holdings = 7,834\n",
        "\n",
        "There are 3,084 more holdings in the index. The Index Distribution yield is greater than the Fund Distribution yield. This pattern indicates that the fund distribution holds a smaller number of individual securities compared to the index. The index has a larger and more diverse set of holdings.\n",
        "\n",
        "4d) The yield to maturity of the fund is 5.43%. The Yield to Maturity evaluates the return an investor can expect from a bond or fixed-income investment if it is held until maturity. It considers the bond's current market price, face value, coupon rate, and time left until maturity. It is the annualized rate of return an investor can earn from a bond if they reinvest all coupon payments at the YTM rate until maturity.\n",
        "\n",
        "The Fund Distribution Yield includes mutual funds and exchange-traded funds (ETFs). It represents the annual income, such as interest, dividends, or capital gains distributions that are generated by the fund's holdings divided by the fund's current share price.\n",
        "\n",
        "The main difference between the YTM and Fund Distribution Yield is in the securities that they are based on and how they are calculated. The YTM focuses on fixed-income securities' returns and assumes reinvestment of coupon payments, while Fund Distribution Yield focuses on the income generated by the overall holdings within a fund.\n"
      ]
    },
    {
      "cell_type": "code",
      "source": [
        "# Bond data (MSFT)\n",
        "coupon_rate = 0.02525  # 2.5250%\n",
        "face_value = 13370000.00\n",
        "bond_price = 860252.5400000\n",
        "years_to_maturity = 26\n",
        "semi_annual_coupon_payments = 2\n",
        "\n",
        "# Function to calculate YTM\n",
        "def calculate_ytm(price, par_value, coupon_rate, years_to_maturity, semi_annual_payments):\n",
        "    coupons = np.repeat(par_value * coupon_rate / semi_annual_payments, years_to_maturity * semi_annual_payments)\n",
        "    coupons[-1] += par_value/ semi_annual_payments  # Add last coupon and face value\n",
        "    ytm_func = lambda r: np.sum(coupons / ((1 + r / semi_annual_payments) ** np.arange(1, years_to_maturity * semi_annual_payments + 1))) + par_value / ((1 + r / semi_annual_payments) ** (years_to_maturity * semi_annual_payments)) - price\n",
        "    ytm = newton(ytm_func,0.02525)  # starting guess for YTM, e.g., 2.5250%\n",
        "    return ytm\n",
        "\n",
        "# Calculate YTM\n",
        "ytm = calculate_ytm(bond_price, face_value, coupon_rate, years_to_maturity, semi_annual_coupon_payments)\n",
        "print(\"Yield-To-Maturity (YTM): {:.2%}\".format(ytm))\n",
        "\n",
        "# Example interpolation method for U.S. Treasury yield curve data\n",
        "# You would need actual yield curve data from a reliable source\n",
        "# For simplicity, I'll use some example data\n",
        "treasury_yield_curve = {\n",
        "    1: 0.02,\n",
        "    2: 0.03,\n",
        "    3: 0.035,\n",
        "    4: 0.04,\n",
        "    5: 0.045\n",
        "}\n",
        "\n",
        "# Interpolate Treasury yield for matching maturity\n",
        "treasury_yield = np.interp(years_to_maturity, list(treasury_yield_curve.keys()), list(treasury_yield_curve.values()))\n",
        "print(\"Treasury Yield for matching maturity: {:.2%}\".format(treasury_yield))\n",
        "\n",
        "# Calculate spread\n",
        "spread = ytm - treasury_yield\n",
        "print(\"Spread: {:.2%}\".format(spread))\n",
        "\n",
        "# Explanation for yield spread between corporate and U.S. Treasury bond:\n",
        "# Corporate bonds generally have higher yields than equivalent Treasury bonds due to additional risk factors such as credit risk, liquidity risk, and issuer-specific factors.\n",
        "# Investors demand higher yields to compensate for the increased risk associated with corporate bonds compared to the relatively risk-free U.S. Treasury bonds.\n"
      ],
      "metadata": {
        "colab": {
          "base_uri": "https://localhost:8080/"
        },
        "id": "9XRnygOqzpbj",
        "outputId": "74463c6d-46c6-493c-b34c-0f015f7b2917"
      },
      "execution_count": null,
      "outputs": [
        {
          "output_type": "stream",
          "name": "stdout",
          "text": [
            "Yield-To-Maturity (YTM): 39.32%\n",
            "Treasury Yield for matching maturity: 4.50%\n",
            "Spread: 34.82%\n"
          ]
        }
      ]
    }
  ],
  "metadata": {
    "colab": {
      "provenance": []
    },
    "kernelspec": {
      "display_name": "Python 3",
      "name": "python3"
    },
    "language_info": {
      "name": "python"
    }
  },
  "nbformat": 4,
  "nbformat_minor": 0
}
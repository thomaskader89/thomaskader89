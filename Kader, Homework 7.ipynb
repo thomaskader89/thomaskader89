{
  "nbformat": 4,
  "nbformat_minor": 0,
  "metadata": {
    "colab": {
      "provenance": []
    },
    "kernelspec": {
      "name": "python3",
      "display_name": "Python 3"
    },
    "language_info": {
      "name": "python"
    }
  },
  "cells": [
    {
      "cell_type": "code",
      "execution_count": 4,
      "metadata": {
        "id": "WPsS8a5e3JqE",
        "colab": {
          "base_uri": "https://localhost:8080/"
        },
        "outputId": "444c90f6-f717-4f5a-ac41-683147f5e148"
      },
      "outputs": [
        {
          "output_type": "stream",
          "name": "stderr",
          "text": [
            "\r[*********************100%%**********************]  1 of 1 completed\n"
          ]
        }
      ],
      "source": [
        "import numpy as np\n",
        "import pandas as pd\n",
        "import yfinance as yf\n",
        "import datetime as dt\n",
        "\n",
        "ticker_symbol = 'LLY'\n",
        "stock_data = yf.download(ticker_symbol, period='90d', interval='1d')"
      ]
    },
    {
      "cell_type": "code",
      "source": [
        "def get_stock_stats(ticker_symbol, period='90d', interval='1d'):\n",
        "    stock_data = yf.download(ticker_symbol, period=period, interval=interval)\n",
        "    daily_returns = stock_data['Adj Close'].pct_change().dropna()\n",
        "    mu = daily_returns.mean()\n",
        "    sigma = daily_returns.std()\n",
        "    return mu, sigma\n",
        "\n",
        "ticker_symbol = 'LLY'\n",
        "mu, sigma = get_stock_stats(ticker_symbol)\n",
        "\n",
        "print(\"Mean daily return (mu):\", mu)\n",
        "print(\"Daily standard deviation (sigma):\", sigma)\n"
      ],
      "metadata": {
        "colab": {
          "base_uri": "https://localhost:8080/"
        },
        "id": "9YNKNHPfTuuH",
        "outputId": "4038ff48-7c15-4341-bfc2-8b56d2d7e0fb"
      },
      "execution_count": 5,
      "outputs": [
        {
          "output_type": "stream",
          "name": "stderr",
          "text": [
            "\r[*********************100%%**********************]  1 of 1 completed"
          ]
        },
        {
          "output_type": "stream",
          "name": "stdout",
          "text": [
            "Mean daily return (mu): 0.002787378121377611\n",
            "Daily standard deviation (sigma): 0.015710157161433397\n"
          ]
        },
        {
          "output_type": "stream",
          "name": "stderr",
          "text": [
            "\n"
          ]
        }
      ]
    },
    {
      "cell_type": "code",
      "source": [
        "current_price = stock_data['Adj Close'][-1]\n",
        "num_simulations = 100000\n",
        "trading_days_to_expiry = 31\n",
        "\n",
        "simulated_end_prices = np.zeros(num_simulations)\n",
        "for i in range(num_simulations):\n",
        "    random_returns = np.random.normal(mu, sigma, trading_days_to_expiry)\n",
        "    simulated_end_prices[i] = current_price * np.exp(np.sum(random_returns))\n",
        "\n",
        "# Equivalent code using list comprehension and vectorized operations\n",
        "random_returns = np.random.normal(mu, sigma, (num_simulations, trading_days_to_expiry))\n",
        "simulated_end_prices = current_price * np.exp(np.sum(random_returns, axis=1))\n",
        "\n",
        "print(\"Sample of simulated end prices:\", simulated_end_prices[:10])"
      ],
      "metadata": {
        "id": "M7LaZiQAWFjP",
        "outputId": "006af9ad-4f14-4687-d6e3-704e8265b51c",
        "colab": {
          "base_uri": "https://localhost:8080/"
        }
      },
      "execution_count": 6,
      "outputs": [
        {
          "output_type": "stream",
          "name": "stdout",
          "text": [
            "Sample of simulated end prices: [878.17360206 848.03212152 851.45412424 809.50035807 714.99384744\n",
            " 818.35379333 775.18918505 842.93444757 756.81358165 715.43906863]\n"
          ]
        }
      ]
    },
    {
      "cell_type": "code",
      "source": [
        "strike_price = 830\n",
        "option_payouts = np.maximum(simulated_end_prices - strike_price, 0, None)\n",
        "\n",
        "print(\"Sample of option payouts:\", option_payouts[:10])"
      ],
      "metadata": {
        "id": "B31y2U1sUXc0",
        "colab": {
          "base_uri": "https://localhost:8080/"
        },
        "outputId": "b6e91289-56bd-4bb5-ebab-9202f1f9d387"
      },
      "execution_count": 7,
      "outputs": [
        {
          "output_type": "stream",
          "name": "stdout",
          "text": [
            "Sample of option payouts: [48.17360206 18.03212152 21.45412424  0.          0.          0.\n",
            "  0.         12.93444757  0.          0.        ]\n"
          ]
        }
      ]
    },
    {
      "cell_type": "code",
      "source": [
        "average_payout = np.mean(option_payouts)\n",
        "risk_free_rate = 5.391 / 100\n",
        "discount_factor = np.exp(-risk_free_rate * (trading_days_to_expiry / 365))\n",
        "present_value = average_payout * discount_factor\n",
        "\n",
        "print(\"Average payout:\", average_payout)\n",
        "print(\"Present value of the average payout:\", present_value)"
      ],
      "metadata": {
        "id": "4YETqSA7U4Pi",
        "colab": {
          "base_uri": "https://localhost:8080/"
        },
        "outputId": "40d18978-369d-4c5f-a50e-9fa798f2e8c0"
      },
      "execution_count": 8,
      "outputs": [
        {
          "output_type": "stream",
          "name": "stdout",
          "text": [
            "Average payout: 16.875924300861847\n",
            "Present value of the average payout: 16.79883184756653\n"
          ]
        }
      ]
    },
    {
      "cell_type": "markdown",
      "source": [
        "Based on the Monte Carlo simulation, the average payout for the Eli Lilly call option is estimated at around $16.78. This value is derived from simulating multiple scenarios and calculating the average outcome. However, when we discount this average payout to its present value using the current risk-free rate, it amounts to approximately $16.71.\n",
        "\n",
        "Comparing this calculated present value to the last traded price of the option, which was $19.50, we notice a slight discrepancy. This difference could indicate several things: the market might be factoring in additional risks or expectations that are not accounted for in our model, or it could be influenced by market sentiment and demand dynamics specific to options on Eli Lilly.\n",
        "\n",
        "Investors should consider these factors, along with the theoretical value generated by the simulation, when making trading or investment decisions regarding this option.\n",
        "\n",
        "\n",
        "\n",
        "\n"
      ],
      "metadata": {
        "id": "qOJnDLBfVGK-"
      }
    }
  ]
}